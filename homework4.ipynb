{
 "cells": [
  {
   "cell_type": "markdown",
   "metadata": {},
   "source": [
    "Задание 1"
   ]
  },
  {
   "cell_type": "code",
   "execution_count": 1,
   "metadata": {},
   "outputs": [],
   "source": [
    "import datetime"
   ]
  },
  {
   "cell_type": "code",
   "execution_count": 2,
   "metadata": {},
   "outputs": [],
   "source": [
    "from datetime import datetime"
   ]
  },
  {
   "cell_type": "code",
   "execution_count": 3,
   "metadata": {},
   "outputs": [],
   "source": [
    "from datetime import timedelta"
   ]
  },
  {
   "cell_type": "markdown",
   "metadata": {},
   "source": [
    "На всякий случай: брала не включённый интервал (то есть исключая start_date и end_date), т.к. задании написано «возвращает список дней _между_»"
   ]
  },
  {
   "cell_type": "code",
   "execution_count": 4,
   "metadata": {},
   "outputs": [],
   "source": [
    "def date_range(start_date, end_date):\n",
    "    \n",
    "        a=[]\n",
    "    \n",
    "        start_date_dt = datetime.strptime(start_date, '%Y-%m-%d')\n",
    "        end_date_dt = datetime.strptime(end_date, '%Y-%m-%d')\n",
    "\n",
    "    \n",
    "        while start_date_dt + timedelta(days=1) < end_date_dt:\n",
    "            start_date_dt += timedelta(days=1)\n",
    "            a.append(start_date_dt.strftime('%Y-%m-%d'))\n",
    "        \n",
    "        print(a)"
   ]
  },
  {
   "cell_type": "code",
   "execution_count": 5,
   "metadata": {},
   "outputs": [
    {
     "name": "stdout",
     "output_type": "stream",
     "text": [
      "['2019-05-21', '2019-05-22', '2019-05-23', '2019-05-24']\n"
     ]
    }
   ],
   "source": [
    "date_range('2019-05-20','2019-05-25')"
   ]
  },
  {
   "cell_type": "markdown",
   "metadata": {},
   "source": [
    "Задание 2"
   ]
  },
  {
   "cell_type": "code",
   "execution_count": 6,
   "metadata": {},
   "outputs": [],
   "source": [
    "start_date = '20.05.2019'"
   ]
  },
  {
   "cell_type": "code",
   "execution_count": 7,
   "metadata": {},
   "outputs": [],
   "source": [
    "def date_range(start_date, end_date):\n",
    "    \n",
    "    try:\n",
    "    \n",
    "        a=[]\n",
    "    \n",
    "        start_date_dt = datetime.strptime(start_date, '%Y-%m-%d')\n",
    "        end_date_dt = datetime.strptime(end_date, '%Y-%m-%d')\n",
    "\n",
    "    \n",
    "        while start_date_dt + timedelta(days=1) < end_date_dt:\n",
    "            start_date_dt += timedelta(days=1)\n",
    "            a.append(start_date_dt.strftime('%Y-%m-%d'))\n",
    "        \n",
    "        print(a)\n",
    "    \n",
    "    except ValueError:\n",
    "        print(a)"
   ]
  },
  {
   "cell_type": "code",
   "execution_count": 8,
   "metadata": {},
   "outputs": [
    {
     "name": "stdout",
     "output_type": "stream",
     "text": [
      "[]\n"
     ]
    }
   ],
   "source": [
    "date_range('20.05.2019','2019-05-25')"
   ]
  },
  {
   "cell_type": "markdown",
   "metadata": {},
   "source": [
    "Задание 3"
   ]
  },
  {
   "cell_type": "code",
   "execution_count": 9,
   "metadata": {},
   "outputs": [],
   "source": [
    "stream = ['2018-04-02', '2018-02-29', '2018-19-02']"
   ]
  },
  {
   "cell_type": "code",
   "execution_count": 10,
   "metadata": {},
   "outputs": [],
   "source": [
    "def is_date_correct(a):\n",
    "\n",
    "        for i in a:\n",
    "            \n",
    "            try:\n",
    "                \n",
    "                datetime.strptime(i, '%Y-%m-%d')\n",
    "                print(True)\n",
    "            \n",
    "            except ValueError:\n",
    "                print(False)"
   ]
  },
  {
   "cell_type": "code",
   "execution_count": 11,
   "metadata": {},
   "outputs": [
    {
     "name": "stdout",
     "output_type": "stream",
     "text": [
      "True\n",
      "False\n",
      "False\n"
     ]
    }
   ],
   "source": [
    "is_date_correct(stream)"
   ]
  },
  {
   "cell_type": "markdown",
   "metadata": {},
   "source": [
    "Задание 4"
   ]
  },
  {
   "cell_type": "code",
   "execution_count": 87,
   "metadata": {},
   "outputs": [],
   "source": [
    "import calendar"
   ]
  },
  {
   "cell_type": "code",
   "execution_count": 100,
   "metadata": {},
   "outputs": [],
   "source": [
    "def days_of_current_month(date):\n",
    "\n",
    "    date_dt = datetime.strptime(date, '%Y-%m-%d')\n",
    "    a=[]\n",
    "    b=date_dt.year\n",
    "    c=date_dt.month - 1\n",
    "               \n",
    "    #если текущий месяц - 1 = 0, значит текущий месяц январь и надо переходить к предыдущему году\n",
    "    if c == 0:\n",
    "        c= 12; b = b - 1\n",
    "    \n",
    "    if date_dt.day == 1:\n",
    "        for i in range(0,calendar.monthrange(b,c)[1]):\n",
    "            date_dt += timedelta(days=-1)\n",
    "            a.append(date_dt.strftime('%Y-%m-%d'))\n",
    "        print(sorted(a))\n",
    "    else: \n",
    "        while date_dt.day > 1:\n",
    "            date_dt += timedelta(days=-1)\n",
    "            a.append(date_dt.strftime('%Y-%m-%d'))\n",
    "        print(sorted(a))"
   ]
  },
  {
   "cell_type": "code",
   "execution_count": 106,
   "metadata": {},
   "outputs": [
    {
     "name": "stdout",
     "output_type": "stream",
     "text": [
      "['2019-05-01', '2019-05-02', '2019-05-03', '2019-05-04']\n"
     ]
    }
   ],
   "source": [
    "days_of_current_month('2019-05-05')"
   ]
  },
  {
   "cell_type": "code",
   "execution_count": 105,
   "metadata": {},
   "outputs": [
    {
     "name": "stdout",
     "output_type": "stream",
     "text": [
      "['2018-12-01', '2018-12-02', '2018-12-03', '2018-12-04', '2018-12-05', '2018-12-06', '2018-12-07', '2018-12-08', '2018-12-09', '2018-12-10', '2018-12-11', '2018-12-12', '2018-12-13', '2018-12-14', '2018-12-15', '2018-12-16', '2018-12-17', '2018-12-18', '2018-12-19', '2018-12-20', '2018-12-21', '2018-12-22', '2018-12-23', '2018-12-24', '2018-12-25', '2018-12-26', '2018-12-27', '2018-12-28', '2018-12-29', '2018-12-30', '2018-12-31']\n"
     ]
    }
   ],
   "source": [
    "days_of_current_month('2019-01-01')"
   ]
  },
  {
   "cell_type": "code",
   "execution_count": null,
   "metadata": {},
   "outputs": [],
   "source": []
  }
 ],
 "metadata": {
  "kernelspec": {
   "display_name": "Python 3",
   "language": "python",
   "name": "python3"
  },
  "language_info": {
   "codemirror_mode": {
    "name": "ipython",
    "version": 3
   },
   "file_extension": ".py",
   "mimetype": "text/x-python",
   "name": "python",
   "nbconvert_exporter": "python",
   "pygments_lexer": "ipython3",
   "version": "3.7.1"
  }
 },
 "nbformat": 4,
 "nbformat_minor": 2
}
